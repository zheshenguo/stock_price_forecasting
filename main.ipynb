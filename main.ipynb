{
 "cells": [
  {
   "cell_type": "code",
   "execution_count": 1,
   "metadata": {},
   "outputs": [
    {
     "data": {
      "text/plain": [
       "'Using device: cuda'"
      ]
     },
     "execution_count": 1,
     "metadata": {},
     "output_type": "execute_result"
    }
   ],
   "source": [
    "import os, sys, time, math, torch\n",
    "import numpy as np\n",
    "import torch.nn as nn\n",
    "\n",
    "from torch.utils.data import DataLoader, TensorDataset\n",
    "from sklearn.metrics import mean_absolute_error, mean_squared_error\n",
    "from sklearn.discriminant_analysis import StandardScaler\n",
    "\n",
    "import pandas as pd\n",
    "import matplotlib.pyplot as plt\n",
    "\n",
    "device = torch.device('cuda' if torch.cuda.is_available() else 'cpu') # GPU or CPU\n",
    "f'Using device: {device}'"
   ]
  },
  {
   "cell_type": "markdown",
   "metadata": {},
   "source": [
    "# I. Create Dataset"
   ]
  },
  {
   "cell_type": "markdown",
   "metadata": {},
   "source": [
    "From train 80%, validation 20%\n",
    "<br>\n",
    "Modified to train 60%, validation 20%, test 20% => Using 'simple holdout validation'\n",
    "<br>\n",
    "Create a moving window which overlaps the Input(20 days) and Output(5 days) by 2 days to create dataset\n",
    "\n",
    "Reference:\n",
    "[Time series prediction](https://peaceful0907.medium.com/time-series-prediction-lstm%E7%9A%84%E5%90%84%E7%A8%AE%E7%94%A8%E6%B3%95-ed36f0370204)"
   ]
  },
  {
   "cell_type": "markdown",
   "metadata": {},
   "source": [
    "![moving_window](moving_window.png)"
   ]
  },
  {
   "cell_type": "code",
   "execution_count": 2,
   "metadata": {},
   "outputs": [],
   "source": [
    "def create_sequences(data, n_past, n_forecast, col_index):\n",
    "    X, Y = [], []\n",
    "    L = len(data)\n",
    "    for i in range(L-(n_past+n_forecast)): # 1 day every step: i = 0, 1, 2, ..., L - (n_past + n_forecast)\n",
    "        X.append(data[i:i+n_past]) # Input Sequence, using n_past days as input\n",
    "        Y.append(data[i+n_past-2:i+n_past+n_forecast-2][:,col_index]) # Output Sequence with 2 days overlap Input Sequence\n",
    "\n",
    "    return torch.Tensor(np.array(X)), torch.Tensor(np.array(Y)).unsqueeze(-1)"
   ]
  },
  {
   "cell_type": "code",
   "execution_count": 3,
   "metadata": {},
   "outputs": [],
   "source": [
    "def preprocess(data_trend, train_ratio, val_ratio, n_past, n_forecast, col_index):\n",
    "    scaler = StandardScaler()\n",
    "    data_trend = scaler.fit_transform(data_trend) # standardization\n",
    "\n",
    "    train_index = int(len(data_trend)*train_ratio)\n",
    "    val_index = int(train_index+len(data_trend)*val_ratio)\n",
    "\n",
    "    train_data = data_trend[:train_index]\n",
    "    val_data = data_trend[train_index:val_index]\n",
    "    test_data = data_trend[val_index:]\n",
    "\n",
    "    print(f'train_data is data_trend[:{train_index}], shape is {train_data.shape}')\n",
    "    print(f'val_data is data_trend[{train_index}:{val_index}], shape is {val_data.shape}')\n",
    "    print(f'test_data is data_trend[:{val_index}], shape is {test_data.shape}')\n",
    "\n",
    "    X_train, Y_train = create_sequences(train_data, n_past, n_forecast, col_index)\n",
    "    X_val, Y_val = create_sequences(val_data, n_past, n_forecast, col_index)\n",
    "    X_test, Y_test = create_sequences(test_data, n_past, n_forecast, col_index)\n",
    "\n",
    "    return X_train, Y_train, X_val, Y_val, X_test, Y_test, scaler"
   ]
  },
  {
   "cell_type": "code",
   "execution_count": 4,
   "metadata": {},
   "outputs": [
    {
     "name": "stdout",
     "output_type": "stream",
     "text": [
      "train_data is data_trend[:568], shape is (568, 5)\n",
      "val_data is data_trend[568:757], shape is (189, 5)\n",
      "test_data is data_trend[:757], shape is (191, 5)\n"
     ]
    },
    {
     "data": {
      "text/plain": [
       "(17, 6, 6)"
      ]
     },
     "execution_count": 4,
     "metadata": {},
     "output_type": "execute_result"
    }
   ],
   "source": [
    "df = pd.read_csv('2330.TW.csv')\n",
    "data = df[[c for c in df.columns if c not in ['Date', 'Adj Close']]].values\n",
    "\n",
    "# 0: Open, 1: High, 2: Low, 3: Close, 4: Volume => 5 features to predict 'Close'\n",
    "X_train, Y_train, X_val, Y_val, X_test, Y_test, scaler = \\\n",
    "    preprocess(data, train_ratio=0.6, val_ratio=0.2, n_past=20, n_forecast=5, col_index=3) # col_index = 3\n",
    "\n",
    "batch_size = 32\n",
    "\n",
    "train_set = TensorDataset(X_train, Y_train)\n",
    "train_dataloader = DataLoader(train_set, batch_size=batch_size, shuffle=False)\n",
    "val_set = TensorDataset(X_val, Y_val)\n",
    "val_dataloader = DataLoader(val_set, batch_size=batch_size, shuffle=False)\n",
    "test_set = TensorDataset(X_test, Y_test)\n",
    "test_dataloader = DataLoader(test_set, batch_size=batch_size, shuffle=False)\n",
    "\n",
    "len(train_dataloader), len(test_dataloader), len(val_dataloader)"
   ]
  },
  {
   "cell_type": "code",
   "execution_count": 5,
   "metadata": {},
   "outputs": [
    {
     "data": {
      "text/plain": [
       "(torch.Size([543, 20, 5]),\n",
       " torch.Size([543, 5, 1]),\n",
       " torch.Size([164, 20, 5]),\n",
       " torch.Size([164, 5, 1]),\n",
       " torch.Size([166, 20, 5]),\n",
       " torch.Size([166, 5, 1]))"
      ]
     },
     "execution_count": 5,
     "metadata": {},
     "output_type": "execute_result"
    }
   ],
   "source": [
    "X_train.shape, Y_train.shape, X_val.shape, Y_val.shape, X_test.shape, Y_test.shape"
   ]
  },
  {
   "cell_type": "markdown",
   "metadata": {},
   "source": [
    "# II. Build Model"
   ]
  },
  {
   "cell_type": "markdown",
   "metadata": {},
   "source": [
    "Transformer-Decoder Architecture\n",
    "\n",
    "Reference:\n",
    "[Transformers for Time-series Forecasting](https://medium.com/mlearning-ai/transformer-implementation-for-time-series-forecasting-a9db2db5c820)"
   ]
  },
  {
   "cell_type": "code",
   "execution_count": 6,
   "metadata": {},
   "outputs": [],
   "source": [
    "class PositionalEncoding(nn.Module):\n",
    "    def __init__(self, d_model, dropout, max_len):\n",
    "        super().__init__()\n",
    "        self.dropout = nn.Dropout(p=dropout)\n",
    "\n",
    "        position = torch.arange(max_len).unsqueeze(1)\n",
    "        div_term = torch.exp(torch.arange(0, d_model, 2) * (-math.log(10000.0) / d_model))\n",
    "        pe = torch.zeros(1, max_len, d_model)\n",
    "        pe[0, :, 0::2] = torch.sin(position * div_term)\n",
    "        pe[0, :, 1::2] = torch.cos(position * div_term)\n",
    "        self.register_buffer('pe', pe)\n",
    "\n",
    "    def forward(self, x):\n",
    "        # input and output shape: [batch_size, seq_len, d_model]\n",
    "        x = x + self.pe[:,:x.size(1)]\n",
    "\n",
    "        return self.dropout(x)"
   ]
  },
  {
   "cell_type": "code",
   "execution_count": 7,
   "metadata": {},
   "outputs": [],
   "source": [
    "class Transformer(nn.Module):\n",
    "    def __init__(self, d_model, nhead, dropout, num_layers):\n",
    "        super(Transformer, self).__init__()\n",
    "\n",
    "        self.encoder_layer = torch.nn.TransformerEncoderLayer(d_model=d_model, nhead=nhead, dropout=dropout, batch_first=True)\n",
    "        self.transformer_encoder = torch.nn.TransformerEncoder(self.encoder_layer, num_layers=num_layers)\n",
    "        self.decoder_layer = torch.nn.TransformerDecoderLayer(d_model=d_model, nhead=nhead, dropout=dropout, batch_first=True)\n",
    "        self.transformer_decoder = torch.nn.TransformerDecoder(self.decoder_layer, num_layers=num_layers)\n",
    "        self.create_probability_output = torch.nn.Linear(d_model, 1)\n",
    "\n",
    "        self.init_weights()\n",
    "\n",
    "    def init_weights(self):\n",
    "        initrange = 0.1\n",
    "        self.create_probability_output.weight.data.uniform_(-initrange, initrange)\n",
    "        self.create_probability_output.bias.data.zero_()\n",
    "\n",
    "    def forward(self, src, tgt):\n",
    "        # print('Transformer source and target shapes:', src.shape, tgt.shape)\n",
    "        tgt_mask = nn.Transformer.generate_square_subsequent_mask(tgt.shape[1]) # shape is adaptive to the input when training/predicting\n",
    "        memory = self.transformer_encoder(src) # memory is the output of encoder\n",
    "        decoder_output = self.transformer_decoder(tgt.to(device), memory.to(device), tgt_mask.to(device)) # the decoder takes in the tgt, memory, and tgt_mask\n",
    "        output = self.create_probability_output(decoder_output) # forecast\n",
    "        return output"
   ]
  },
  {
   "cell_type": "code",
   "execution_count": 8,
   "metadata": {},
   "outputs": [],
   "source": [
    "class Model(nn.Module):\n",
    "    def __init__(self):\n",
    "        super(Model, self).__init__()\n",
    "\n",
    "        self.expansion_input = torch.nn.Linear(in_features=5, out_features=512)\n",
    "        self.expansion_output = torch.nn.Linear(in_features=1, out_features=512)\n",
    "\n",
    "        self.positional_encoding_input = PositionalEncoding(d_model=512, dropout=0.1, max_len=20)\n",
    "        self.positional_encoding_output = PositionalEncoding(d_model=512, dropout=0.1, max_len=5)\n",
    "\n",
    "        self.transformer = Transformer(d_model=512, nhead=8, dropout=0.1, num_layers=2)\n",
    "\n",
    "    def forward(self, src, tgt):\n",
    "        src = self.expansion_input(src)\n",
    "        tgt = self.expansion_output(tgt)\n",
    "\n",
    "        src = self.positional_encoding_input(src)\n",
    "        tgt = self.positional_encoding_output(tgt)\n",
    "\n",
    "        output = self.transformer(src, tgt)\n",
    "        return output"
   ]
  },
  {
   "cell_type": "markdown",
   "metadata": {},
   "source": [
    "# III. Train Model"
   ]
  },
  {
   "cell_type": "markdown",
   "metadata": {},
   "source": [
    "Model Inference\n",
    "\n",
    "Reference:\n",
    "[influenza_transformer](https://github.com/KasperGroesLudvigsen/influenza_transformer/tree/main)"
   ]
  },
  {
   "cell_type": "code",
   "execution_count": 9,
   "metadata": {},
   "outputs": [],
   "source": [
    "### Progress bar from Keras API ###\n",
    "\n",
    "class Progbar(object):\n",
    "\tdef __init__(self,\n",
    "\t\t\t\ttarget,\n",
    "\t\t\t\twidth=30,\n",
    "\t\t\t\tinterval=0.05,\n",
    "\t\t\t\tstateful_metrics=None,\n",
    "\t\t\t\tunit_name='step'):\n",
    "\t\tself.target = target\n",
    "\t\tself.width = width\n",
    "\t\tself.interval = interval\n",
    "\t\tself.unit_name = unit_name\n",
    "\t\tif stateful_metrics:\n",
    "\t\t\tself.stateful_metrics = set(stateful_metrics)\n",
    "\t\telse:\n",
    "\t\t\tself.stateful_metrics = set()\n",
    "\n",
    "\t\tself._dynamic_display = ((hasattr(sys.stdout, 'isatty') and\n",
    "\t\t\t\t\t\t\t\tsys.stdout.isatty()) or\n",
    "\t\t\t\t\t\t\t\t'ipykernel' in sys.modules or\n",
    "\t\t\t\t\t\t\t\t'posix' in sys.modules or\n",
    "\t\t\t\t\t\t\t\t'PYCHARM_HOSTED' in os.environ)\n",
    "\t\tself._total_width = 0\n",
    "\t\tself._seen_so_far = 0\n",
    "\t\tself._values = {}\n",
    "\t\tself._values_order = []\n",
    "\t\tself._start = time.time()\n",
    "\t\tself._last_update = 0\n",
    "\n",
    "\t\tself._time_after_first_step = None\n",
    "\n",
    "\tdef update(self, current, values=None, finalize=None):\n",
    "\t\tif finalize is None:\n",
    "\t\t\tif self.target is None:\n",
    "\t\t\t\tfinalize = False\n",
    "\t\t\telse:\n",
    "\t\t\t\tfinalize = current >= self.target\n",
    "\n",
    "\t\tvalues = values or []\n",
    "\t\tfor k, v in values:\n",
    "\t\t\tif k not in self._values_order:\n",
    "\t\t\t\tself._values_order.append(k)\n",
    "\t\t\tif k not in self.stateful_metrics:\n",
    "\t\t\t\tvalue_base = max(current - self._seen_so_far, 1)\n",
    "\t\t\t\tif k not in self._values:\n",
    "\t\t\t\t\tself._values[k] = [v * value_base, value_base]\n",
    "\t\t\t\telse:\n",
    "\t\t\t\t\tself._values[k][0] += v * value_base\n",
    "\t\t\t\t\tself._values[k][1] += value_base\n",
    "\t\t\telse:\n",
    "\t\t\t\tself._values[k] = [v, 1]\n",
    "\t\tself._seen_so_far = current\n",
    "\n",
    "\t\tnow = time.time()\n",
    "\t\tinfo = ' - %.0fs' % (now - self._start)\n",
    "\t\tif True:\n",
    "\t\t\tif now - self._last_update < self.interval and not finalize:\n",
    "\t\t\t\treturn\n",
    "\n",
    "\t\t\tprev_total_width = self._total_width\n",
    "\t\t\tif self._dynamic_display:\n",
    "\t\t\t\tsys.stdout.write('\\b' * prev_total_width)\n",
    "\t\t\t\tsys.stdout.write('\\r')\n",
    "\t\t\telse:\n",
    "\t\t\t\tsys.stdout.write('\\n')\n",
    "\n",
    "\t\t\tif self.target is not None:\n",
    "\t\t\t\tnumdigits = int(np.log10(self.target)) + 1\n",
    "\t\t\t\tbar = ('%' + str(numdigits) + 'd/%d [') % (current, self.target)\n",
    "\t\t\t\tprog = float(current) / self.target\n",
    "\t\t\t\tprog_width = int(self.width * prog)\n",
    "\t\t\t\tif prog_width > 0:\n",
    "\t\t\t\t\tbar += ('=' * (prog_width - 1))\n",
    "\t\t\t\t\tif current < self.target:\n",
    "\t\t\t\t\t\tbar += '>'\n",
    "\t\t\t\t\telse:\n",
    "\t\t\t\t\t\tbar += '='\n",
    "\t\t\t\tbar += ('.' * (self.width - prog_width))\n",
    "\t\t\t\tbar += ']'\n",
    "\t\t\telse:\n",
    "\t\t\t\tbar = '%7d/Unknown' % current\n",
    "\n",
    "\t\t\tself._total_width = len(bar)\n",
    "\t\t\tsys.stdout.write(bar)\n",
    "\n",
    "\t\t\ttime_per_unit = self._estimate_step_duration(current, now)\n",
    "\n",
    "\t\t\tif self.target is None or finalize:\n",
    "\t\t\t\tif time_per_unit >= 1 or time_per_unit == 0:\n",
    "\t\t\t\t\tinfo += ' %.0fs/%s' % (time_per_unit, self.unit_name)\n",
    "\t\t\t\telif time_per_unit >= 1e-3:\n",
    "\t\t\t\t\tinfo += ' %.0fms/%s' % (time_per_unit * 1e3, self.unit_name)\n",
    "\t\t\t\telse:\n",
    "\t\t\t\t\tinfo += ' %.0fus/%s' % (time_per_unit * 1e6, self.unit_name)\n",
    "\t\t\telse:\n",
    "\t\t\t\teta = time_per_unit * (self.target - current)\n",
    "\t\t\t\tif eta > 3600:\n",
    "\t\t\t\t\teta_format = '%d:%02d:%02d' % (eta // 3600,\n",
    "\t\t\t\t\t\t\t\t\t\t\t\t(eta % 3600) // 60, eta % 60)\n",
    "\t\t\t\telif eta > 60:\n",
    "\t\t\t\t\teta_format = '%d:%02d' % (eta // 60, eta % 60)\n",
    "\t\t\t\telse:\n",
    "\t\t\t\t\teta_format = '%ds' % eta\n",
    "\n",
    "\t\t\t\tinfo = ' - ETA: %s' % eta_format\n",
    "\n",
    "\t\t\tfor k in self._values_order:\n",
    "\t\t\t\tinfo += ' - %s:' % k\n",
    "\t\t\t\tif isinstance(self._values[k], list):\n",
    "\t\t\t\t\tavg = np.mean(self._values[k][0] / max(1, self._values[k][1]))\n",
    "\t\t\t\t\tif abs(avg) > 1e-3:\n",
    "\t\t\t\t\t\tinfo += ' %.4f' % avg\n",
    "\t\t\t\t\telse:\n",
    "\t\t\t\t\t\tinfo += ' %.4e' % avg\n",
    "\t\t\t\telse:\n",
    "\t\t\t\t\tinfo += ' %s' % self._values[k]\n",
    "\n",
    "\t\t\tself._total_width += len(info)\n",
    "\t\t\tif prev_total_width > self._total_width:\n",
    "\t\t\t\tinfo += (' ' * (prev_total_width - self._total_width))\n",
    "\n",
    "\t\t\tif finalize:\n",
    "\t\t\t\tinfo += '\\n'\n",
    "\n",
    "\t\t\tsys.stdout.write(info)\n",
    "\t\t\tsys.stdout.flush()\n",
    "\n",
    "\t\tself._last_update = now\n",
    "\n",
    "\tdef _estimate_step_duration(self, current, now):\n",
    "\t\tif current:\n",
    "\t\t\tif self._time_after_first_step is not None and current > 1:\n",
    "\t\t\t\ttime_per_unit = (now - self._time_after_first_step) / (current - 1)\n",
    "\t\t\telse:\n",
    "\t\t\t\ttime_per_unit = (now - self._start) / current\n",
    "\n",
    "\t\t\tif current == 1:\n",
    "\t\t\t\tself._time_after_first_step = now\n",
    "\t\t\treturn time_per_unit\n",
    "\t\telse:\n",
    "\t\t\treturn 0"
   ]
  },
  {
   "cell_type": "code",
   "execution_count": 10,
   "metadata": {},
   "outputs": [],
   "source": [
    "### training module ###\n",
    "\n",
    "def train(model, progbar, train_dataloader, criterion, optimizer):\n",
    "    train_loss_per_epoch = []\n",
    "\n",
    "    model.train()  # turn on the train mode\n",
    "\n",
    "    for i, (source, target) in enumerate(train_dataloader):\n",
    "        optimizer.zero_grad()\n",
    "        prediction = model(source.to(device), target.to(device))\n",
    "        loss = criterion(prediction.to(device), target.to(device))\n",
    "        loss.backward()\n",
    "        nn.utils.clip_grad_norm_(model.parameters(), 0.7) # prevent gradient explosion\n",
    "        optimizer.step()\n",
    "        train_loss_per_epoch.append(loss.item())\n",
    "\n",
    "        progbar.update(i, values=[('loss', loss.item())])\n",
    "\n",
    "    train_loss = sum(train_loss_per_epoch) / len(train_loss_per_epoch)\n",
    "\n",
    "    return train_loss"
   ]
  },
  {
   "cell_type": "code",
   "execution_count": 11,
   "metadata": {},
   "outputs": [],
   "source": [
    "### inference module ###\n",
    "\n",
    "def run_encoder_decoder_inference(model, source, n_forecast, device):\n",
    "    target_seq_dim = 1 # dimension of a batched model input that contains the target sequence values\n",
    "    target = source[:, -1, 3] # tgt is equal to the last value of src\n",
    "    target = target.unsqueeze(-1).unsqueeze(-1)\n",
    "\n",
    "    # Iteratively concatenate tgt with the first element in the prediction\n",
    "    for _ in range(n_forecast-1):\n",
    "        # make prediction\n",
    "        prediction = model(source.to(device), target.to(device))\n",
    "\n",
    "        last_predicted_value = prediction[:, -1, :]\n",
    "        last_predicted_value = last_predicted_value.unsqueeze(-1) # tgt's size increases by 1 at each step\n",
    "\n",
    "        # the last element in the model's prediction is iteratively concatenated with tgt\n",
    "        target = torch.cat((target.to(device), last_predicted_value.to(device)), target_seq_dim)\n",
    "        # print('target shape: ', target.shape, 'last_predicted_value shape: ', last_predicted_value)\n",
    "\n",
    "    # tgt will have tgt seq_len and final prediction will be made\n",
    "    # make final prediction\n",
    "    final_prediction = model(source.to(device), target.to(device))\n",
    "\n",
    "    # return final_prediction\n",
    "    return final_prediction"
   ]
  },
  {
   "cell_type": "code",
   "execution_count": 12,
   "metadata": {},
   "outputs": [],
   "source": [
    "### validation module ###\n",
    "\n",
    "def validation(model, val_dataloader, criterion, device):\n",
    "    val_loss_per_epoch = []\n",
    "\n",
    "    model.eval() # turn on the evaluation mode\n",
    "\n",
    "    with torch.no_grad():\n",
    "        for source, target in val_dataloader:\n",
    "            n_forecast = target.shape[1]\n",
    "            prediction = run_encoder_decoder_inference(model, source, n_forecast, device)\n",
    "            loss = criterion(prediction.to(device), target.to(device))\n",
    "            val_loss_per_epoch.append(loss.item())\n",
    "\n",
    "    val_loss = sum(val_loss_per_epoch) / len(val_loss_per_epoch)\n",
    "\n",
    "    return val_loss"
   ]
  },
  {
   "cell_type": "markdown",
   "metadata": {},
   "source": [
    "# IV. Main function"
   ]
  },
  {
   "cell_type": "code",
   "execution_count": 13,
   "metadata": {},
   "outputs": [],
   "source": [
    "### initialize variables ###\n",
    "\n",
    "lr = 1e-4\n",
    "epochs = 50\n",
    "min_val_loss = float(torch.inf)\n",
    "\n",
    "total_train_loss = []\n",
    "total_val_loss = []\n",
    "\n",
    "best_model = 'model.pth'"
   ]
  },
  {
   "cell_type": "code",
   "execution_count": 14,
   "metadata": {},
   "outputs": [],
   "source": [
    "### initialize model ###\n",
    "\n",
    "model = Model().to(device)\n",
    "criterion = nn.MSELoss()\n",
    "optimizer = torch.optim.AdamW(model.parameters(), lr=lr)\n",
    "scheduler = torch.optim.lr_scheduler.StepLR(optimizer, 1, gamma=0.95) # decay the learning rate by 0.95 every epoch"
   ]
  },
  {
   "cell_type": "code",
   "execution_count": 15,
   "metadata": {},
   "outputs": [
    {
     "name": "stdout",
     "output_type": "stream",
     "text": [
      "Epoch 1/50\n",
      "17/17 [==============================] - 1s 47ms/step - loss: 8.1220 - val_loss: 0.6252\n",
      "Epoch 2/50\n",
      "17/17 [==============================] - 1s 30ms/step - loss: 2.9529 - val_loss: 0.1475\n",
      "Epoch 3/50\n",
      "17/17 [==============================] - 1s 30ms/step - loss: 0.1048 - val_loss: 0.8669\n",
      "Epoch 4/50\n",
      "17/17 [==============================] - 0s 29ms/step - loss: 0.1249 - val_loss: 0.0599\n",
      "Epoch 5/50\n",
      "17/17 [==============================] - 1s 31ms/step - loss: 0.3164 - val_loss: 0.4705\n",
      "Epoch 6/50\n",
      "17/17 [==============================] - 1s 31ms/step - loss: 0.3316 - val_loss: 0.3874\n",
      "Epoch 7/50\n",
      "17/17 [==============================] - 1s 31ms/step - loss: 0.5839 - val_loss: 0.0593\n",
      "Epoch 8/50\n",
      "17/17 [==============================] - 0s 27ms/step - loss: 0.4931 - val_loss: 1.9373\n",
      "Epoch 9/50\n",
      "17/17 [==============================] - 1s 31ms/step - loss: 0.0781 - val_loss: 0.4680\n",
      "Epoch 10/50\n",
      "17/17 [==============================] - 1s 31ms/step - loss: 0.1949 - val_loss: 0.0660\n",
      "Epoch 11/50\n",
      "17/17 [==============================] - 1s 31ms/step - loss: 0.0532 - val_loss: 0.7623\n",
      "Epoch 12/50\n",
      "17/17 [==============================] - 1s 30ms/step - loss: 0.2220 - val_loss: 0.1006\n",
      "Epoch 13/50\n",
      "17/17 [==============================] - 1s 31ms/step - loss: 0.3255 - val_loss: 6.0099\n",
      "Epoch 14/50\n",
      "17/17 [==============================] - 1s 32ms/step - loss: 0.6626 - val_loss: 0.5894\n",
      "Epoch 15/50\n",
      "17/17 [==============================] - 0s 29ms/step - loss: 0.4617 - val_loss: 1.3171\n",
      "Epoch 16/50\n",
      "17/17 [==============================] - 1s 29ms/step - loss: 0.6839 - val_loss: 0.8448\n",
      "Epoch 17/50\n",
      "17/17 [==============================] - 0s 28ms/step - loss: 0.1563 - val_loss: 0.5714\n",
      "Epoch 18/50\n",
      "17/17 [==============================] - 1s 32ms/step - loss: 0.1646 - val_loss: 0.2840\n",
      "Epoch 19/50\n",
      "17/17 [==============================] - 1s 32ms/step - loss: 0.0912 - val_loss: 0.1901\n",
      "Epoch 20/50\n",
      "17/17 [==============================] - 0s 27ms/step - loss: 0.0982 - val_loss: 0.0464\n",
      "Epoch 21/50\n",
      "17/17 [==============================] - 1s 32ms/step - loss: 0.0613 - val_loss: 0.1231\n",
      "Epoch 22/50\n",
      "17/17 [==============================] - 1s 33ms/step - loss: 0.0876 - val_loss: 0.4862\n",
      "Epoch 23/50\n",
      "17/17 [==============================] - 1s 30ms/step - loss: 0.0458 - val_loss: 0.2843\n",
      "Epoch 24/50\n",
      "17/17 [==============================] - 1s 31ms/step - loss: 0.0999 - val_loss: 0.6943\n",
      "Epoch 25/50\n",
      "17/17 [==============================] - 1s 31ms/step - loss: 0.0839 - val_loss: 0.0656\n",
      "Epoch 26/50\n",
      "17/17 [==============================] - 1s 33ms/step - loss: 0.0820 - val_loss: 0.1647\n",
      "Epoch 27/50\n",
      "17/17 [==============================] - 1s 35ms/step - loss: 0.0557 - val_loss: 0.1429\n",
      "Epoch 28/50\n",
      "17/17 [==============================] - 0s 29ms/step - loss: 0.0844 - val_loss: 0.3021\n",
      "Epoch 29/50\n",
      "17/17 [==============================] - 1s 32ms/step - loss: 0.0649 - val_loss: 0.0668\n",
      "Epoch 30/50\n",
      "17/17 [==============================] - 1s 31ms/step - loss: 0.0570 - val_loss: 0.5241\n",
      "Epoch 31/50\n",
      "17/17 [==============================] - 0s 28ms/step - loss: 0.0817 - val_loss: 0.6393\n",
      "Epoch 32/50\n",
      "17/17 [==============================] - 1s 31ms/step - loss: 0.0266 - val_loss: 0.1889\n",
      "Epoch 33/50\n",
      "17/17 [==============================] - 0s 29ms/step - loss: 0.0420 - val_loss: 0.1475\n",
      "Epoch 34/50\n",
      "17/17 [==============================] - 1s 32ms/step - loss: 0.0432 - val_loss: 0.4560\n",
      "Epoch 35/50\n",
      "17/17 [==============================] - 0s 29ms/step - loss: 0.0528 - val_loss: 0.0265\n",
      "Epoch 36/50\n",
      "17/17 [==============================] - 1s 31ms/step - loss: 0.0410 - val_loss: 0.0518\n",
      "Epoch 37/50\n",
      "17/17 [==============================] - 0s 29ms/step - loss: 0.0207 - val_loss: 0.0583\n",
      "Epoch 38/50\n",
      "17/17 [==============================] - 0s 28ms/step - loss: 0.0154 - val_loss: 0.1963\n",
      "Epoch 39/50\n",
      "17/17 [==============================] - 1s 32ms/step - loss: 0.0426 - val_loss: 0.1948\n",
      "Epoch 40/50\n",
      "17/17 [==============================] - 0s 29ms/step - loss: 0.0246 - val_loss: 0.0300\n",
      "Epoch 41/50\n",
      "17/17 [==============================] - 1s 32ms/step - loss: 0.0409 - val_loss: 0.1337\n",
      "Epoch 42/50\n",
      "17/17 [==============================] - 1s 31ms/step - loss: 0.0193 - val_loss: 0.0565\n",
      "Epoch 43/50\n",
      "17/17 [==============================] - 1s 32ms/step - loss: 0.0319 - val_loss: 0.0756\n",
      "Epoch 44/50\n",
      "17/17 [==============================] - 1s 32ms/step - loss: 0.0131 - val_loss: 0.0407\n",
      "Epoch 45/50\n",
      "17/17 [==============================] - 1s 35ms/step - loss: 0.0228 - val_loss: 0.0207\n",
      "Epoch 46/50\n",
      "17/17 [==============================] - 1s 32ms/step - loss: 0.0159 - val_loss: 0.0320\n",
      "Epoch 47/50\n",
      "17/17 [==============================] - 1s 35ms/step - loss: 0.0126 - val_loss: 0.0514\n",
      "Epoch 48/50\n",
      "17/17 [==============================] - 1s 34ms/step - loss: 0.0388 - val_loss: 0.0638\n",
      "Epoch 49/50\n",
      "17/17 [==============================] - 1s 35ms/step - loss: 0.0350 - val_loss: 0.1197\n",
      "Epoch 50/50\n",
      "17/17 [==============================] - 1s 33ms/step - loss: 0.0151 - val_loss: 0.0424\n"
     ]
    }
   ],
   "source": [
    "### training loop ###\n",
    "\n",
    "for epoch in range(epochs):\n",
    "    n_batches = len(train_dataloader)\n",
    "    print(f'Epoch {epoch + 1}/{epochs}')\n",
    "    progbar = Progbar(target=n_batches)\n",
    "\n",
    "    train_loss = train(model, progbar, train_dataloader, criterion, optimizer)\n",
    "    val_loss = validation(model, val_dataloader, criterion, device)\n",
    "\n",
    "    total_train_loss.append(train_loss)\n",
    "    total_val_loss.append(val_loss)\n",
    "\n",
    "    progbar.update(n_batches, values=[('val_loss', val_loss)])\n",
    "\n",
    "    if val_loss < min_val_loss:\n",
    "        torch.save(model.state_dict(), 'model.pth')\n",
    "        min_val_loss = val_loss\n",
    "\n",
    "    scheduler.step()"
   ]
  },
  {
   "cell_type": "code",
   "execution_count": 16,
   "metadata": {},
   "outputs": [
    {
     "data": {
      "image/png": "[encoded data removed]",
      "text/plain": [
       "<Figure size 640x480 with 1 Axes>"
      ]
     },
     "metadata": {},
     "output_type": "display_data"
    }
   ],
   "source": [
    "### plot loss module ###\n",
    "\n",
    "plt.plot(total_train_loss, label='Train')\n",
    "plt.plot(total_val_loss, label='Validation')\n",
    "plt.title('Loss Curves')\n",
    "plt.xlabel('Epochs')\n",
    "plt.ylabel('Loss')\n",
    "plt.legend()\n",
    "\n",
    "plt.tight_layout()\n",
    "plt.savefig('Loss Curves.png')"
   ]
  },
  {
   "cell_type": "markdown",
   "metadata": {},
   "source": [
    "# V. Result"
   ]
  },
  {
   "cell_type": "code",
   "execution_count": 17,
   "metadata": {},
   "outputs": [],
   "source": [
    "### average price module ###\n",
    "\n",
    "# averaging the overlapping 4 days forecast\n",
    "\n",
    "def average_price(source):\n",
    "    batch_size = source.shape[0]\n",
    "    seq_len = source.shape[1]\n",
    "    total_day = batch_size + seq_len - 1\n",
    "    pointer = 0\n",
    "    count_list = []\n",
    "\n",
    "    for i in range(total_day):\n",
    "        count = 0\n",
    "        if i < seq_len - 1:\n",
    "            path = i\n",
    "            for k in range(i + 1):\n",
    "                count += source[k][path]\n",
    "                path -= 1\n",
    "            count_list.append(count / (i + 1))\n",
    "        elif i > total_day - seq_len:\n",
    "            b = batch_size - (total_day - i)\n",
    "            path = seq_len - 1\n",
    "            for l in range(b, total_day - i + b):\n",
    "                count += source[l][path]\n",
    "                path -= 1\n",
    "            count_list.append(count / (total_day - i))\n",
    "        else:\n",
    "            path = seq_len - 1\n",
    "            for j in range(pointer, seq_len + pointer):\n",
    "                count += source[j][path]\n",
    "                path -= 1\n",
    "            pointer += 1\n",
    "            count_list.append(count / seq_len)\n",
    "\n",
    "    count_array = np.array(count_list)\n",
    "    return count_array"
   ]
  },
  {
   "cell_type": "code",
   "execution_count": 18,
   "metadata": {},
   "outputs": [],
   "source": [
    "### testing module ###\n",
    "\n",
    "model = Model().to(device)\n",
    "model.load_state_dict(torch.load(f'model.pth'))\n",
    "\n",
    "initialized = False\n",
    "\n",
    "with torch.no_grad():\n",
    "\n",
    "    model.eval() # turn on the evaluation mode\n",
    "\n",
    "    for source, target in test_dataloader:\n",
    "        n_forecast = target.shape[1]\n",
    "        outputs = run_encoder_decoder_inference(model, source, n_forecast, device)\n",
    "\n",
    "        outputs = outputs.squeeze(-1)\n",
    "        target = target.squeeze(-1)\n",
    "\n",
    "        outputs = np.sqrt(scaler.var_[3])*outputs.cpu().detach().numpy() + scaler.mean_[3]\n",
    "        target = np.sqrt(scaler.var_[3])*target.cpu().detach().numpy() + scaler.mean_[3]\n",
    "\n",
    "        if not initialized:\n",
    "            all_outputs = outputs\n",
    "            all_target = target\n",
    "            initialized = True\n",
    "        else:\n",
    "            all_outputs = np.concatenate((all_outputs, outputs), axis=0)\n",
    "            all_target = np.concatenate((all_target, target), axis=0)\n",
    "\n",
    "# average out the stock price: 12345, 23456 => [1, avg(2345), 6] getting '123' days stock price\n",
    "all_outputs = average_price(all_outputs)\n",
    "all_target = average_price(all_target)\n",
    "\n",
    "all_target = np.squeeze(all_target)\n",
    "all_outputs = np.squeeze(all_outputs)"
   ]
  },
  {
   "cell_type": "code",
   "execution_count": 19,
   "metadata": {},
   "outputs": [
    {
     "data": {
      "text/plain": [
       "0.9707706098129119"
      ]
     },
     "execution_count": 19,
     "metadata": {},
     "output_type": "execute_result"
    }
   ],
   "source": [
    "### calculate metrics ###\n",
    "\n",
    "mae, mse, rmse = mean_absolute_error(all_target, all_outputs) \\\n",
    "    , mean_squared_error(all_target, all_outputs) \\\n",
    "    , np.sqrt(mean_squared_error(all_target, all_outputs))\n",
    "\n",
    "\n",
    "correlation_matrix = np.corrcoef(all_target, all_outputs)\n",
    "correlation_coefficient = correlation_matrix[0, 1]\n",
    "correlation_coefficient"
   ]
  },
  {
   "cell_type": "code",
   "execution_count": 20,
   "metadata": {},
   "outputs": [
    {
     "data": {
      "image/png": "[encoded data removed]",
      "text/plain": [
       "<Figure size 640x480 with 1 Axes>"
      ]
     },
     "metadata": {},
     "output_type": "display_data"
    }
   ],
   "source": [
    "### plot result module ###\n",
    "\n",
    "plt.clf()\n",
    "plt.plot(all_target, color='grey', alpha=0.7)\n",
    "plt.plot(all_outputs, color='blue', linewidth=0.7)\n",
    "plt.title('Forecast and Actual Stock Price Comparison')\n",
    "plt.xlabel('Days Passed')\n",
    "\n",
    "plt.text(0.05, 0.95, f'MAE: {mae:.2f}', transform=plt.gca().transAxes, fontsize=10, verticalalignment='top')\n",
    "plt.text(0.05, 0.9, f'MSE: {mse:.2f}', transform=plt.gca().transAxes, fontsize=10, verticalalignment='top')\n",
    "plt.text(0.05, 0.85, f'RMSE: {rmse:.2f}', transform=plt.gca().transAxes, fontsize=10, verticalalignment='top')\n",
    "plt.text(0.05, 0.8, f'Correlation: {correlation_coefficient:.2f}', transform=plt.gca().transAxes, fontsize=10, verticalalignment='top')\n",
    "\n",
    "plt.savefig('Forecast and Actual Stock Price Comparison.png')"
   ]
  }
 ],
 "metadata": {
  "kernelspec": {
   "display_name": "torch",
   "language": "python",
   "name": "python3"
  },
  "language_info": {
   "codemirror_mode": {
    "name": "ipython",
    "version": 3
   },
   "file_extension": ".py",
   "mimetype": "text/x-python",
   "name": "python",
   "nbconvert_exporter": "python",
   "pygments_lexer": "ipython3",
   "version": "3.10.13"
  }
 },
 "nbformat": 4,
 "nbformat_minor": 2
}
